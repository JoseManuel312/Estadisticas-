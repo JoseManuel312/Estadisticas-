{
  "nbformat": 4,
  "nbformat_minor": 0,
  "metadata": {
    "colab": {
      "provenance": []
    },
    "kernelspec": {
      "name": "python3",
      "display_name": "Python 3"
    },
    "language_info": {
      "name": "python"
    }
  },
  "cells": [
    {
      "cell_type": "markdown",
      "source": [
        "#Probabilidad Y Estadisticas- Problema 1\n",
        "Problema\n",
        "Número de estudiantes: 500\n",
        "\n",
        "Medio (μ): 70 kg\n",
        "\n",
        "Desviación estándar (σ): 4 kg\n",
        "\n",
        "Distribución: Normal\n",
        "\n",
        "Queremos:\n",
        "\n",
        "La probabilidad de que un estudiante pese entre 68 y 72 kg.\n",
        "\n",
        "El número esperado de estudiantes que están en ese rango."
      ],
      "metadata": {
        "id": "URH2MXzVYfEn"
      }
    },
    {
      "cell_type": "code",
      "source": [
        "import scipy.stats as stats\n",
        "\n",
        "# Datos del problema\n",
        "media = 70            # media (μ)\n",
        "desviacion = 4        # desviación estándar (σ)\n",
        "n_estudiantes = 500   # total de estudiantes\n",
        "\n",
        "# Rango de pesos\n",
        "peso_inferior = 68\n",
        "peso_superior = 72\n",
        "\n",
        "# Convertimos los pesos a valores Z\n",
        "z_inferior = (peso_inferior - media) / desviacion\n",
        "z_superior = (peso_superior - media) / desviacion\n",
        "\n",
        "# Calculamos la probabilidad usando la función de distribución acumulada (CDF)\n",
        "probabilidad = stats.norm.cdf(z_superior) - stats.norm.cdf(z_inferior)\n",
        "\n",
        "# Calculamos la cantidad esperada de estudiantes\n",
        "cantidad_estudiantes = probabilidad * n_estudiantes\n",
        "\n",
        "# Mostrar resultados\n",
        "print(f\"Probabilidad de pesar entre 68 kg y 72 kg: {probabilidad:.4f}\")\n",
        "print(f\"Número esperado de estudiantes en ese rango: {cantidad_estudiantes:.0f}\")\n"
      ],
      "metadata": {
        "colab": {
          "base_uri": "https://localhost:8080/"
        },
        "id": "HPezLtTUYnB2",
        "outputId": "128e46b0-1aec-4739-9c8a-4ae70e66ab0e"
      },
      "execution_count": null,
      "outputs": [
        {
          "output_type": "stream",
          "name": "stdout",
          "text": [
            "Probabilidad de pesar entre 68 kg y 72 kg: 0.3829\n",
            "Número esperado de estudiantes en ese rango: 191\n"
          ]
        }
      ]
    },
    {
      "cell_type": "markdown",
      "source": [
        "#Distribucion Binomial\n",
        "Distribución Binomial\n",
        "1. Aplica para variables aleatorias discretas, (número finito de valores).\n",
        "2. El experimento consiste en n intentos idénticos.\n",
        "3. Cada intento resulta en uno de dos resultados. El resultado uno se llama éxito, S, y el\n",
        "otro se llama fracaso, F.\n",
        "4. La probabilidad de éxito en un solo intento es igual a p y es igual de un intento a otro.\n",
        "5. La probabilidad de fracaso es igual a (1 - p) q.\n",
        "6. Los intentos son independientes.\n",
        "7. Estamos interesados en x, el número de éxitos observado durante los n intentos, para\n",
        "x 0, 1, 2, …, n."
      ],
      "metadata": {
        "id": "isCYvDxub8cK"
      }
    },
    {
      "cell_type": "code",
      "source": [
        "import scipy.stats as stats\n",
        "import matplotlib.pyplot as plt\n",
        "\n",
        "# ---------------------------\n",
        "# 1. Parámetros del experimento\n",
        "# ---------------------------\n",
        "\n",
        "n = 10          # Número de ensayos (experimentos independientes)\n",
        "p = 0.3         # Probabilidad de éxito en un solo intento\n",
        "q = 1 - p       # Probabilidad de fracaso\n",
        "x = 4           # Número de éxitos deseados\n",
        "\n",
        "# ---------------------------\n",
        "# 2. Condiciones de la distribución binomial\n",
        "# ---------------------------\n",
        "\n",
        "print(\"Distribución Binomial - Condiciones\")\n",
        "print(\"1. Variable aleatoria discreta: número de éxitos en n intentos.\")\n",
        "print(\"2. Número de intentos (n):\", n)\n",
        "print(\"3. Cada intento tiene dos resultados posibles: Éxito (S) o Fracaso (F).\")\n",
        "print(f\"4. Probabilidad de éxito (p): {p}\")\n",
        "print(f\"5. Probabilidad de fracaso (q = 1 - p): {q}\")\n",
        "print(\"6. Los intentos son independientes.\")\n",
        "print(\"7. Se busca la probabilidad de obtener exactamente x =\", x, \"éxitos.\\n\")\n",
        "\n",
        "# ---------------------------\n",
        "# 3. Cálculo de probabilidades\n",
        "# ---------------------------\n",
        "\n",
        "# Probabilidad de obtener exactamente x éxitos\n",
        "prob_x = stats.binom.pmf(x, n, p)\n",
        "\n",
        "# Probabilidad acumulada (menor o igual a x)\n",
        "prob_acum = stats.binom.cdf(x, n, p)\n",
        "\n",
        "# Probabilidad de obtener más de x éxitos\n",
        "prob_mayor = 1 - prob_acum\n",
        "\n",
        "print(f\"🔹 Probabilidad de obtener exactamente {x} éxitos: {prob_x:.4f}\")\n",
        "print(f\"🔹 Probabilidad de obtener {x} o menos éxitos (P(X ≤ {x})): {prob_acum:.4f}\")\n",
        "print(f\"🔹 Probabilidad de obtener más de {x} éxitos (P(X > {x})): {prob_mayor:.4f}\\n\")\n",
        "\n",
        "# ---------------------------\n",
        "# 4. Gráfica de la distribución binomial\n",
        "# ---------------------------\n",
        "\n",
        "valores_x = list(range(n + 1))  # de 0 a n\n",
        "probabilidades = [stats.binom.pmf(k, n, p) for k in valores_x]\n",
        "\n",
        "plt.bar(valores_x, probabilidades, color='skyblue', edgecolor='black')\n",
        "plt.title(f'Distribución Binomial: n={n}, p={p}')\n",
        "plt.xlabel('Número de éxitos (x)')\n",
        "plt.ylabel('Probabilidad P(X = x)')\n",
        "plt.xticks(valores_x)\n",
        "plt.grid(axis='y', linestyle='--', alpha=0.7)\n",
        "plt.show()\n"
      ],
      "metadata": {
        "colab": {
          "base_uri": "https://localhost:8080/",
          "height": 698
        },
        "id": "d9DwWN5ycJa2",
        "outputId": "3136fbd7-7315-4d3d-b2e1-caf93febc4c2"
      },
      "execution_count": null,
      "outputs": [
        {
          "output_type": "stream",
          "name": "stdout",
          "text": [
            "Distribución Binomial - Condiciones\n",
            "1. Variable aleatoria discreta: número de éxitos en n intentos.\n",
            "2. Número de intentos (n): 10\n",
            "3. Cada intento tiene dos resultados posibles: Éxito (S) o Fracaso (F).\n",
            "4. Probabilidad de éxito (p): 0.3\n",
            "5. Probabilidad de fracaso (q = 1 - p): 0.7\n",
            "6. Los intentos son independientes.\n",
            "7. Se busca la probabilidad de obtener exactamente x = 4 éxitos.\n",
            "\n",
            "🔹 Probabilidad de obtener exactamente 4 éxitos: 0.2001\n",
            "🔹 Probabilidad de obtener 4 o menos éxitos (P(X ≤ 4)): 0.8497\n",
            "🔹 Probabilidad de obtener más de 4 éxitos (P(X > 4)): 0.1503\n",
            "\n"
          ]
        },
        {
          "output_type": "display_data",
          "data": {
            "text/plain": [
              "<Figure size 640x480 with 1 Axes>"
            ],
            "image/png": "[encoded data removed]"
          },
          "metadata": {}
        }
      ]
    },
    {
      "cell_type": "markdown",
      "source": [
        "#Distribución Binomial de probabilidad\n",
        "• Un experimento binomial consta de n intentos idénticos con probabilidad p de éxito\n",
        "en cada intento.\n",
        "\n",
        "\n",
        "• La probabilidad de k éxitos en n intentos es"
      ],
      "metadata": {
        "id": "a0dKijj_ijKu"
      }
    },
    {
      "cell_type": "code",
      "source": [
        "import math\n",
        "\n",
        "def distribucion_binomial(n, k, p):\n",
        "    \"\"\"\n",
        "    Calcula la probabilidad de obtener exactamente k éxitos en n intentos\n",
        "    usando la fórmula de la distribución binomial:\n",
        "\n",
        "    P(X = k) = C(n, k) * p^k * q^(n - k)\n",
        "    donde C(n, k) = n! / (k!(n - k)!)\n",
        "    \"\"\"\n",
        "    q = 1 - p  # Probabilidad de fracaso\n",
        "    coef_binomial = math.factorial(n) / (math.factorial(k) * math.factorial(n - k))  # C(n, k)\n",
        "    probabilidad = coef_binomial * (p ** k) * (q ** (n - k))\n",
        "    return probabilidad\n",
        "\n",
        "# -----------------------------\n",
        "# Entrada del usuario\n",
        "# -----------------------------\n",
        "print(\"📊 Distribución Binomial de Probabilidad\")\n",
        "print(\"-----------------------------------------\")\n",
        "n = int(input(\"Ingrese el número de intentos (n): \"))\n",
        "k = int(input(\"Ingrese el número de éxitos deseados (k): \"))\n",
        "p = float(input(\"Ingrese la probabilidad de éxito (p): \"))\n",
        "\n",
        "# -----------------------------\n",
        "# Cálculo de probabilidad\n",
        "# -----------------------------\n",
        "resultado = distribucion_binomial(n, k, p)\n",
        "\n",
        "# -----------------------------\n",
        "# Mostrar resultado\n",
        "# -----------------------------\n",
        "print(\"\\n📌 Resultado\")\n",
        "print(f\"P(X = {k}) = {resultado:.5f}\")\n"
      ],
      "metadata": {
        "colab": {
          "base_uri": "https://localhost:8080/"
        },
        "id": "oW_c0ja9itel",
        "outputId": "c8717dd7-c2bb-4c51-8598-4b68a9282674"
      },
      "execution_count": null,
      "outputs": [
        {
          "output_type": "stream",
          "name": "stdout",
          "text": [
            "📊 Distribución Binomial de Probabilidad\n",
            "-----------------------------------------\n",
            "Ingrese el número de intentos (n): 5\n",
            "Ingrese el número de éxitos deseados (k): 4\n",
            "Ingrese la probabilidad de éxito (p): 5\n",
            "\n",
            "📌 Resultado\n",
            "P(X = 4) = -12500.00000\n"
          ]
        }
      ]
    },
    {
      "cell_type": "markdown",
      "source": [
        "#Media y desviación estándar Para la variable aleatoria binomial\n",
        "• La variable aleatoria x, el número de éxitos en n intentos, tiene una distribución de\n",
        "probabilidad con este centro y dispersión:"
      ],
      "metadata": {
        "id": "TyC_JhwAjBqN"
      }
    },
    {
      "cell_type": "code",
      "source": [
        "import math\n",
        "\n",
        "def coef_binomial(n, k):\n",
        "    \"\"\"Calcula el coeficiente binomial C(n, k) = n! / (k! * (n - k)!)\"\"\"\n",
        "    return math.factorial(n) / (math.factorial(k) * math.factorial(n - k))\n",
        "\n",
        "def probabilidad_binomial(n, k, p):\n",
        "    \"\"\"Calcula la probabilidad P(X = k) para una distribución binomial\"\"\"\n",
        "    q = 1 - p\n",
        "    return coef_binomial(n, k) * (p ** k) * (q ** (n - k))\n",
        "\n",
        "def calcular_media(n, p):\n",
        "    \"\"\"Media de la distribución binomial: μ = np\"\"\"\n",
        "    return n * p\n",
        "\n",
        "def calcular_varianza(n, p):\n",
        "    \"\"\"Varianza de la distribución binomial: σ² = npq\"\"\"\n",
        "    q = 1 - p\n",
        "    return n * p * q\n",
        "\n",
        "def calcular_desviacion_estandar(n, p):\n",
        "    \"\"\"Desviación estándar: σ = √(npq)\"\"\"\n",
        "    return math.sqrt(calcular_varianza(n, p))\n",
        "\n",
        "# -----------------------------\n",
        "# Entrada de datos del usuario\n",
        "# -----------------------------\n",
        "print(\"📊 Cálculo de Distribución Binomial\")\n",
        "n = int(input(\"👉 Ingrese el número de intentos (n): \"))\n",
        "k = int(input(\"👉 Ingrese el número de éxitos deseados (k): \"))\n",
        "p = float(input(\"👉 Ingrese la probabilidad de éxito (p): \"))\n",
        "\n",
        "# -----------------------------\n",
        "# Cálculos\n",
        "# -----------------------------\n",
        "prob = probabilidad_binomial(n, k, p)\n",
        "media = calcular_media(n, p)\n",
        "varianza = calcular_varianza(n, p)\n",
        "desv_std = calcular_desviacion_estandar(n, p)\n",
        "\n",
        "# -----------------------------\n",
        "# Resultados\n",
        "# -----------------------------\n",
        "print(\"\\n📌 RESULTADOS:\")\n",
        "print(f\"🔹 Probabilidad P(X = {k}): {prob:.5f}\")\n",
        "print(f\"🔹 Media (μ = np): {media:.2f}\")\n",
        "print(f\"🔹 Varianza (σ² = npq): {varianza:.2f}\")\n",
        "print(f\"🔹 Desviación estándar (σ = √npq): {desv_std:.4f}\")\n"
      ],
      "metadata": {
        "colab": {
          "base_uri": "https://localhost:8080/"
        },
        "id": "CcgZiaNQk3sP",
        "outputId": "56bbe30c-e6fb-4143-cba2-67f03cfe0c01"
      },
      "execution_count": null,
      "outputs": [
        {
          "output_type": "stream",
          "name": "stdout",
          "text": [
            "📊 Cálculo de Distribución Binomial\n",
            "👉 Ingrese el número de intentos (n): 10\n",
            "👉 Ingrese el número de éxitos deseados (k): 4\n",
            "👉 Ingrese la probabilidad de éxito (p): 0.4\n",
            "\n",
            "📌 RESULTADOS:\n",
            "🔹 Probabilidad P(X = 4): 0.25082\n",
            "🔹 Media (μ = np): 4.00\n",
            "🔹 Varianza (σ² = npq): 2.40\n",
            "🔹 Desviación estándar (σ = √npq): 1.5492\n"
          ]
        }
      ]
    },
    {
      "cell_type": "markdown",
      "source": [
        "#Distribución Poisson\n",
        "Otra variable aleatoria discreta que tiene numerosas aplicaciones prácticas es la variable aleatoria de\n",
        "Poisson.\n",
        "• Su distribución de probabilidad da un buen modelo para datos que representa el número de sucesos de\n",
        "un evento especificado en una unidad determinada de tiempo o espacio.\n",
        "\n",
        "• A continuación, algunos ejemplos de experimentos para los cuales la variable aleatoria x puede ser\n",
        "modelada por la variable aleatoria de Poisson:\n",
        "\n",
        "• El número de llamadas recibidas por un conmutador durante un tiempo determinado.\n",
        "\n",
        "• El número de bacterias por volumen pequeño de fluido.\n",
        "\n",
        "• El número de llegadas de clientes al mostrador de una caja de pago en un minuto determinado.\n",
        "\n",
        "• El número de descomposturas de una máquina durante un día determinado.\n",
        "\n",
        "• El número de accidentes de tránsito en un crucero dado durante un tiempo determinado.\n"
      ],
      "metadata": {
        "id": "TouqcFbO_ms5"
      }
    },
    {
      "cell_type": "code",
      "source": [
        "import math\n",
        "\n",
        "def poisson_probabilidad(lam, x):\n",
        "    \"\"\"\n",
        "    Calcula la probabilidad de obtener exactamente x eventos\n",
        "    en una distribución de Poisson con tasa promedio lam.\n",
        "\n",
        "    Parámetros:\n",
        "    lam (float): Tasa promedio de ocurrencia (λ).\n",
        "    x (int): Número exacto de eventos.\n",
        "\n",
        "    Retorna:\n",
        "    float: Probabilidad de que ocurran exactamente x eventos.\n",
        "    \"\"\"\n",
        "    # Paso 1: Calcular e^(-λ)\n",
        "    e_neg_lambda = math.exp(-lam)\n",
        "\n",
        "    # Paso 2: Calcular λ^x\n",
        "    lambda_pow_x = lam ** x\n",
        "\n",
        "    # Paso 3: Calcular x!\n",
        "    factorial_x = math.factorial(x)\n",
        "\n",
        "    # Paso 4: Aplicar la fórmula de Poisson\n",
        "    probabilidad = (e_neg_lambda * lambda_pow_x) / factorial_x\n",
        "\n",
        "    return probabilidad\n",
        "\n",
        "# -----------------------------\n",
        "# USO DEL CÓDIGO CON UN EJEMPLO:\n",
        "# λ = 5 llamadas por minuto\n",
        "# x = 3 llamadas exactas\n",
        "\n",
        "lambda_valor = 5\n",
        "x_valor = 3\n",
        "\n",
        "resultado = poisson_probabilidad(lambda_valor, x_valor)\n",
        "\n",
        "print(f\"La probabilidad de recibir exactamente {x_valor} llamadas en un minuto es: {resultado:.4f}\")\n"
      ],
      "metadata": {
        "colab": {
          "base_uri": "https://localhost:8080/"
        },
        "id": "am2u5jplAh-I",
        "outputId": "640229dc-bdd0-417c-9524-8a5a45d3490c"
      },
      "execution_count": null,
      "outputs": [
        {
          "output_type": "stream",
          "name": "stdout",
          "text": [
            "La probabilidad de recibir exactamente 3 llamadas en un minuto es: 0.1404\n"
          ]
        }
      ]
    },
    {
      "cell_type": "markdown",
      "source": [
        "#Distribución Poisson\n",
        "• En cada uno de los ejemplos anteriores, x representa el número de eventos que ocurren en un periodo\n",
        "o espacio, durante el cual se puede esperar que ocurra un promedio de mu de estos eventos.\n",
        "\n",
        "• Las únicas suposiciones necesarias, cuando se usa la distribución de Poisson para modelar experimentos\n",
        "tales como éstos, son que las cuentas o eventos ocurren al azar e independientemente unos de otros.\n",
        "\n",
        "• La fórmula para la distribución de probabilidad de Poisson, así como su media y varianza, se dan a\n",
        "continuación.\n"
      ],
      "metadata": {
        "id": "NUcGxHVDBw1b"
      }
    },
    {
      "cell_type": "code",
      "source": [
        "import math\n",
        "\n",
        "def distribucion_poisson(mu, k):\n",
        "    \"\"\"\n",
        "    Calcula la probabilidad de que ocurran exactamente k eventos\n",
        "    en una distribución de Poisson con media mu (μ),\n",
        "    además de la media y la desviación estándar.\n",
        "\n",
        "    Parámetros:\n",
        "    mu (float): valor promedio (μ), tasa de ocurrencia del evento.\n",
        "    k (int): número exacto de eventos que queremos evaluar.\n",
        "\n",
        "    Retorna:\n",
        "    dict: con probabilidad, media y desviación estándar.\n",
        "    \"\"\"\n",
        "    # ------------------------------\n",
        "    # Cálculo de la probabilidad:\n",
        "    # Usamos la fórmula:\n",
        "    # P(k) = (μ^k * e^(-μ)) / k!\n",
        "\n",
        "    probabilidad = (mu**k * math.exp(-mu)) / math.factorial(k)\n",
        "\n",
        "    # Media (μ)\n",
        "    media = mu\n",
        "\n",
        "    # Desviación estándar: σ = √μ\n",
        "    desviacion_estandar = math.sqrt(mu)\n",
        "\n",
        "    # Retornamos los resultados como diccionario\n",
        "    return {\n",
        "        'P(k)': probabilidad,\n",
        "        'Media (μ)': media,\n",
        "        'Desviación estándar (σ)': desviacion_estandar\n",
        "    }\n",
        "\n",
        "# ----------------------------------\n",
        "# Ejemplo de uso:\n",
        "mu = 4       # promedio de eventos (por ejemplo, 4 llamadas por hora)\n",
        "k = 2        # queremos saber la probabilidad de que haya exactamente 2 llamadas\n",
        "\n",
        "resultado = distribucion_poisson(mu, k)\n",
        "\n",
        "# Mostrar resultados\n",
        "print(f\"Probabilidad de que ocurran exactamente {k} eventos: {resultado['P(k)']:.4f}\")\n",
        "print(f\"Media (μ): {resultado['Media (μ)']}\")\n",
        "print(f\"Desviación estándar (σ): {resultado['Desviación estándar (σ)']:.4f}\")\n"
      ],
      "metadata": {
        "colab": {
          "base_uri": "https://localhost:8080/"
        },
        "id": "IEGRneAGCCQw",
        "outputId": "59fba3d0-3a44-4756-8084-5d6330b37c40"
      },
      "execution_count": null,
      "outputs": [
        {
          "output_type": "stream",
          "name": "stdout",
          "text": [
            "Probabilidad de que ocurran exactamente 2 eventos: 0.1465\n",
            "Media (μ): 4\n",
            "Desviación estándar (σ): 2.0000\n"
          ]
        }
      ]
    },
    {
      "cell_type": "markdown",
      "source": [
        "#Distribución Poisson"
      ],
      "metadata": {
        "id": "9L24CwVAD8Kn"
      }
    },
    {
      "cell_type": "code",
      "source": [
        "import math\n",
        "\n",
        "def calcular_poisson(mu, k):\n",
        "    \"\"\"\n",
        "    Calcula la probabilidad de que ocurran exactamente 'k' eventos en una distribución de Poisson\n",
        "    con una tasa promedio 'mu' (μ), usando la fórmula matemática:\n",
        "\n",
        "    P(x = k) = (μ^k * e^(-μ)) / k!\n",
        "\n",
        "    Parámetros:\n",
        "    ----------\n",
        "    mu : float\n",
        "        Es la tasa promedio de ocurrencia de eventos (μ)\n",
        "    k : int\n",
        "        Número exacto de eventos que queremos que ocurran (k)\n",
        "\n",
        "    Retorna:\n",
        "    -------\n",
        "    float\n",
        "        La probabilidad de que ocurran exactamente 'k' eventos.\n",
        "    \"\"\"\n",
        "\n",
        "    # Paso 1: Calcular e^(-μ)\n",
        "    exp_neg_mu = math.exp(-mu)\n",
        "\n",
        "    # Paso 2: Calcular μ^k\n",
        "    mu_potencia_k = mu ** k\n",
        "\n",
        "    # Paso 3: Calcular k! (factorial de k)\n",
        "    factorial_k = math.factorial(k)\n",
        "\n",
        "    # Paso 4: Aplicar la fórmula de Poisson\n",
        "    probabilidad = (mu_potencia_k * exp_neg_mu) / factorial_k\n",
        "\n",
        "    return probabilidad\n",
        "\n",
        "# -----------------------------\n",
        "# 📌 EJEMPLO DE USO DEL CÓDIGO\n",
        "# Supongamos que en promedio ocurren 3 errores de máquina por día (μ = 3)\n",
        "# Queremos saber la probabilidad de que ocurran exactamente 2 errores (k = 2)\n",
        "\n",
        "mu = 3   # tasa promedio de errores por día\n",
        "k = 2    # número de errores que queremos calcular la probabilidad\n",
        "\n",
        "# Llamamos a la función\n",
        "resultado = calcular_poisson(mu, k)\n",
        "\n",
        "# Mostramos la probabilidad con 4 decimales\n",
        "print(f\"Probabilidad de que ocurran exactamente {k} eventos cuando μ = {mu} es: {resultado:.4f}\")\n"
      ],
      "metadata": {
        "colab": {
          "base_uri": "https://localhost:8080/"
        },
        "id": "0zv_QfkWEB5b",
        "outputId": "3923b7d2-3174-483c-b17e-bb50568fd863"
      },
      "execution_count": null,
      "outputs": [
        {
          "output_type": "stream",
          "name": "stdout",
          "text": [
            "Probabilidad de que ocurran exactamente 2 eventos cuando μ = 3 es: 0.2240\n"
          ]
        }
      ]
    },
    {
      "cell_type": "markdown",
      "source": [
        "#Distribución Poisson\n",
        "\n",
        "El número promedio de accidentes de tránsito en cierto crucero de carretera es dos por semana. Suponga\n",
        "\n",
        "que el número de accidentes sigue una distribución de Poisson con una media = 2.\n",
        "1. Encuentre la probabilidad de que no haya accidentes en este crucero de carretera durante un periodo\n",
        "de 1 semana.\n",
        "\n",
        "2. Encuentre la probabilidad de que a lo sumo haya tres accidentes en esta sección de carretera durante un\n",
        "periodo de 2 semanas\n"
      ],
      "metadata": {
        "id": "YVKmup72Eu6P"
      }
    },
    {
      "cell_type": "code",
      "source": [
        "import math\n",
        "\n",
        "def poisson_puntual(mu, k):\n",
        "    \"\"\"\n",
        "    Calcula la probabilidad puntual P(X = k) para una distribución de Poisson.\n",
        "\n",
        "    Parámetros:\n",
        "    mu -- media o número promedio de eventos (μ)\n",
        "    k -- número exacto de eventos (k)\n",
        "\n",
        "    Retorna:\n",
        "    Probabilidad de que ocurran exactamente k eventos.\n",
        "    \"\"\"\n",
        "    return (mu ** k * math.exp(-mu)) / math.factorial(k)\n",
        "\n",
        "def poisson_acumulada(mu, max_k):\n",
        "    \"\"\"\n",
        "    Calcula la probabilidad acumulada P(X <= max_k) sumando P(X=0) + P(X=1) + ... + P(X=max_k)\n",
        "\n",
        "    Parámetros:\n",
        "    mu -- media o número promedio de eventos (μ)\n",
        "    max_k -- valor máximo de eventos a acumular\n",
        "\n",
        "    Retorna:\n",
        "    Probabilidad acumulada hasta max_k eventos.\n",
        "    \"\"\"\n",
        "    acumulada = 0\n",
        "    for k in range(0, max_k + 1):\n",
        "        acumulada += poisson_puntual(mu, k)\n",
        "    return acumulada\n",
        "\n",
        "# ---------------------------------------------------\n",
        "# 🌟 PROBLEMA 1:\n",
        "# Probabilidad de que NO haya accidentes en una semana (X = 0, μ = 2)\n",
        "mu_semana = 2\n",
        "k = 0\n",
        "\n",
        "probabilidad_no_accidentes = poisson_puntual(mu_semana, k)\n",
        "print(f\"1. Probabilidad de que NO haya accidentes en 1 semana: {probabilidad_no_accidentes:.4f}\")\n",
        "\n",
        "# ---------------------------------------------------\n",
        "# 🌟 PROBLEMA 2:\n",
        "# A lo sumo 3 accidentes en 2 semanas (X <= 3, μ = 4)\n",
        "mu_2semanas = 2 * 2  # Porque son 2 semanas y el promedio es 2 por semana\n",
        "max_k = 3\n",
        "\n",
        "probabilidad_max3 = poisson_acumulada(mu_2semanas, max_k)\n",
        "print(f\"2. Probabilidad de que haya a lo sumo 3 accidentes en 2 semanas: {probabilidad_max3:.4f}\")\n"
      ],
      "metadata": {
        "colab": {
          "base_uri": "https://localhost:8080/"
        },
        "id": "j0ZiZbNGF-nW",
        "outputId": "54ecca2d-7088-44a4-c7b7-176a1ebac673"
      },
      "execution_count": null,
      "outputs": [
        {
          "output_type": "stream",
          "name": "stdout",
          "text": [
            "1. Probabilidad de que NO haya accidentes en 1 semana: 0.1353\n",
            "2. Probabilidad de que haya a lo sumo 3 accidentes en 2 semanas: 0.4335\n"
          ]
        }
      ]
    },
    {
      "cell_type": "markdown",
      "source": [
        "#Distribución Poisson\n",
        "Calcular la probabilidad de que ocurran exactamente 0 accidentes en una semana, si el promedio es de 2 accidentes por semana .\n",
        "\n"
      ],
      "metadata": {
        "id": "96AF7_-5tqc9"
      }
    },
    {
      "cell_type": "code",
      "source": [
        "import math\n",
        "\n",
        "# Parámetros del problema\n",
        "mu = 2        # Promedio de accidentes por semana\n",
        "x = 0         # Número de accidentes que queremos calcular la probabilidad\n",
        "\n",
        "# Paso 1: Calcular la parte de arriba de la fórmula: μ^x * e^(-μ)\n",
        "numerador = (mu ** x) * math.exp(-mu)\n",
        "\n",
        "# Paso 2: Calcular el denominador: x!\n",
        "denominador = math.factorial(x)\n",
        "\n",
        "# Paso 3: Aplicar la fórmula de Poisson\n",
        "probabilidad = numerador / denominador\n",
        "\n",
        "# Mostrar el resultado\n",
        "print(f\"La probabilidad de que NO haya accidentes en una semana es: {probabilidad:.5f}\")\n"
      ],
      "metadata": {
        "colab": {
          "base_uri": "https://localhost:8080/"
        },
        "id": "Gkwbk0AmuA6L",
        "outputId": "00bdc9d8-2760-4f87-9a81-2be2a49600b4"
      },
      "execution_count": 1,
      "outputs": [
        {
          "output_type": "stream",
          "name": "stdout",
          "text": [
            "La probabilidad de que NO haya accidentes en una semana es: 0.13534\n"
          ]
        }
      ]
    },
    {
      "cell_type": "markdown",
      "source": [
        "#Distribución Poisson\n",
        "2. Encuentre la probabilidad de\n",
        "que a lo sumo haya tres\n",
        "accidentes en esta sección de\n",
        "carretera durante un periodo\n",
        "de 2 semanas."
      ],
      "metadata": {
        "id": "Pixx0HWJuU7k"
      }
    },
    {
      "cell_type": "code",
      "source": [
        "import math\n",
        "\n",
        "# Función para calcular la probabilidad Poisson\n",
        "def probabilidad_poisson(mu, x):\n",
        "    \"\"\"\n",
        "    Calcula la probabilidad de que ocurran exactamente x eventos\n",
        "    usando la distribución de Poisson con media mu.\n",
        "    \"\"\"\n",
        "    return (mu ** x) * math.exp(-mu) / math.factorial(x)\n",
        "\n",
        "# Parámetro promedio para 2 semanas\n",
        "mu = 4\n",
        "\n",
        "# Acumulamos las probabilidades desde x=0 hasta x=3\n",
        "prob_total = 0\n",
        "print(\"Detalles del cálculo:\")\n",
        "for x in range(4):  # 0, 1, 2, 3\n",
        "    p = probabilidad_poisson(mu, x)\n",
        "    prob_total += p\n",
        "    print(f\"P(x = {x}) = {p:.6f}\")\n",
        "\n",
        "print(f\"\\nLa probabilidad de que ocurran a lo sumo 3 accidentes en 2 semanas es: {prob_total:.6f}\")\n"
      ],
      "metadata": {
        "colab": {
          "base_uri": "https://localhost:8080/"
        },
        "id": "7BqBAcSSuclg",
        "outputId": "1a4d32cb-859e-43b2-bb64-78a93f4083b6"
      },
      "execution_count": 2,
      "outputs": [
        {
          "output_type": "stream",
          "name": "stdout",
          "text": [
            "Detalles del cálculo:\n",
            "P(x = 0) = 0.018316\n",
            "P(x = 1) = 0.073263\n",
            "P(x = 2) = 0.146525\n",
            "P(x = 3) = 0.195367\n",
            "\n",
            "La probabilidad de que ocurran a lo sumo 3 accidentes en 2 semanas es: 0.433470\n"
          ]
        }
      ]
    },
    {
      "cell_type": "markdown",
      "source": [
        "#Distribución Poisson\n",
        "Una compañía de seguros asegura a 5.000 hombres de 42 añosLa probabilidad de.\n",
        "La probabilidad de que un hombre muera en un año es ( p = 0 .Se nos pide calcular​es\n",
        "pag\n",
        "=\n",
        "0.001\n",
        "pag=0.001.\n",
        "Se nos pide calcular la probabilidad de que exactamente 4 hombres mueran en un año (es decir,\n",
        "PAG\n",
        "(\n",
        "incógnita\n",
        "=\n",
        "4\n",
        ")\n",
        "P ( x=4 ))."
      ],
      "metadata": {
        "id": "10sK0SZhvfCQ"
      }
    },
    {
      "cell_type": "code",
      "source": [
        "import math\n",
        "\n",
        "# Paso 1: Definir los parámetros\n",
        "n = 5000              # número de personas aseguradas\n",
        "p = 0.001             # probabilidad de muerte por persona\n",
        "mu = n * p            # valor de λ (mu) en la distribución de Poisson\n",
        "x = 4                 # número de reclamaciones que queremos calcular\n",
        "\n",
        "# Paso 2: Calcular P(x = 4) usando la fórmula de Poisson\n",
        "numerador = (mu ** x) * math.exp(-mu)\n",
        "denominador = math.factorial(x)\n",
        "probabilidad = numerador / denominador\n",
        "\n",
        "# Paso 3: Mostrar el resultado\n",
        "print(f\"Parámetro μ (mu) = {mu}\")\n",
        "print(f\"La probabilidad de que exactamente 4 personas mueran en un año es: {probabilidad:.6f}\")\n"
      ],
      "metadata": {
        "colab": {
          "base_uri": "https://localhost:8080/"
        },
        "id": "mVVpklC6wGIg",
        "outputId": "22dacd54-978d-42fd-a191-7477b6051124"
      },
      "execution_count": 3,
      "outputs": [
        {
          "output_type": "stream",
          "name": "stdout",
          "text": [
            "Parámetro μ (mu) = 5.0\n",
            "La probabilidad de que exactamente 4 personas mueran en un año es: 0.175467\n"
          ]
        }
      ]
    }
  ]
}