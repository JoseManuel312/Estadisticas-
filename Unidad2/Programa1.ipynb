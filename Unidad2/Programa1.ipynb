{
  "nbformat": 4,
  "nbformat_minor": 0,
  "metadata": {
    "colab": {
      "provenance": []
    },
    "kernelspec": {
      "name": "python3",
      "display_name": "Python 3"
    },
    "language_info": {
      "name": "python"
    }
  },
  "cells": [
    {
      "cell_type": "code",
      "execution_count": 1,
      "metadata": {
        "colab": {
          "base_uri": "https://localhost:8080/"
        },
        "id": "yYXlDcDfD7TJ",
        "outputId": "d519039f-432e-4373-9a2c-11c74bafe219"
      },
      "outputs": [
        {
          "output_type": "stream",
          "name": "stdout",
          "text": [
            "Combinaciones sin repetición de 5 elementos tomados de 3 en 3: 10\n",
            "\n",
            "Ejemplo de combinaciones sin repetición con letras y números:\n",
            "('A', 'B', 'C')\n",
            "('A', 'B', '1')\n",
            "('A', 'B', '2')\n",
            "('A', 'B', '3')\n",
            "('A', 'C', '1')\n",
            "('A', 'C', '2')\n",
            "('A', 'C', '3')\n",
            "('A', '1', '2')\n",
            "('A', '1', '3')\n",
            "('A', '2', '3')\n",
            "('B', 'C', '1')\n",
            "('B', 'C', '2')\n",
            "('B', 'C', '3')\n",
            "('B', '1', '2')\n",
            "('B', '1', '3')\n",
            "('B', '2', '3')\n",
            "('C', '1', '2')\n",
            "('C', '1', '3')\n",
            "('C', '2', '3')\n",
            "('1', '2', '3')\n",
            "\n",
            "Ejemplo de combinaciones con repetición:\n",
            "('X', 'X')\n",
            "('X', 'Y')\n",
            "('X', 'Z')\n",
            "('Y', 'Y')\n",
            "('Y', 'Z')\n",
            "('Z', 'Z')\n"
          ]
        }
      ],
      "source": [
        "from itertools import combinations, combinations_with_replacement\n",
        "from math import comb\n",
        "\n",
        "def combinaciones_sin_repeticion(n, k):\n",
        "    \"\"\"Calcula el número de combinaciones sin repetición.\"\"\"\n",
        "    return comb(n, k)\n",
        "\n",
        "def ejemplo_combinaciones_sin_repeticion():\n",
        "    \"\"\"Ejemplo con letras y números sin repetición.\"\"\"\n",
        "    elementos = ['A', 'B', 'C', '1', '2', '3']\n",
        "    k = 3  # Tamaño del subconjunto\n",
        "    resultado = list(combinations(elementos, k))\n",
        "    return resultado\n",
        "\n",
        "def ejemplo_combinaciones_con_repeticion():\n",
        "    \"\"\"Ejemplo de combinaciones con repetición.\"\"\"\n",
        "    elementos = ['X', 'Y', 'Z']\n",
        "    k = 2  # Tamaño del subconjunto\n",
        "    resultado = list(combinations_with_replacement(elementos, k))\n",
        "    return resultado\n",
        "\n",
        "if __name__ == \"__main__\":\n",
        "    # Cálculo de combinaciones sin repetición\n",
        "    n, k = 5, 3  # Valores de ejemplo\n",
        "    print(f\"Combinaciones sin repetición de {n} elementos tomados de {k} en {k}: {combinaciones_sin_repeticion(n, k)}\")\n",
        "\n",
        "    # Ejemplo de combinaciones sin repetición con letras y números\n",
        "    print(\"\\nEjemplo de combinaciones sin repetición con letras y números:\")\n",
        "    for c in ejemplo_combinaciones_sin_repeticion():\n",
        "        print(c)\n",
        "\n",
        "    # Ejemplo de combinaciones con repetición\n",
        "    print(\"\\nEjemplo de combinaciones con repetición:\")\n",
        "    for c in ejemplo_combinaciones_con_repeticion():\n",
        "        print(c)\n"
      ]
    },
    {
      "cell_type": "code",
      "source": [],
      "metadata": {
        "id": "brlzOKzcHxcz"
      },
      "execution_count": null,
      "outputs": []
    }
  ]
}