{
  "nbformat": 4,
  "nbformat_minor": 0,
  "metadata": {
    "colab": {
      "provenance": []
    },
    "kernelspec": {
      "name": "python3",
      "display_name": "Python 3"
    },
    "language_info": {
      "name": "python"
    }
  },
  "cells": [
    {
      "cell_type": "code",
      "execution_count": 1,
      "metadata": {
        "colab": {
          "base_uri": "https://localhost:8080/"
        },
        "id": "V-Zfa63UPnSw",
        "outputId": "8adb53bd-b025-4343-c87c-e28b6eb627c1"
      },
      "outputs": [
        {
          "output_type": "stream",
          "name": "stdout",
          "text": [
            "Permutaciones de la palabra 'CASA':\n",
            "CASA\n",
            "CAAS\n",
            "CSAA\n",
            "CSAA\n",
            "CAAS\n",
            "CASA\n",
            "ACSA\n",
            "ACAS\n",
            "ASCA\n",
            "ASAC\n",
            "AACS\n",
            "AASC\n",
            "SCAA\n",
            "SCAA\n",
            "SACA\n",
            "SAAC\n",
            "SACA\n",
            "SAAC\n",
            "ACAS\n",
            "ACSA\n",
            "AACS\n",
            "AASC\n",
            "ASCA\n",
            "ASAC\n"
          ]
        }
      ],
      "source": [
        "from itertools import permutations\n",
        "\n",
        "def generar_permutaciones_palabra(palabra):\n",
        "    \"\"\"Genera todas las permutaciones posibles de una palabra dada.\"\"\"\n",
        "    return [\"\".join(p) for p in permutations(palabra)]\n",
        "\n",
        "if __name__ == \"__main__\":\n",
        "    palabra = \"CASA\"  # Ejemplo basado en la diapositiva 37\n",
        "    resultado = generar_permutaciones_palabra(palabra)\n",
        "\n",
        "    print(f\"Permutaciones de la palabra '{palabra}':\")\n",
        "    for perm in resultado:\n",
        "        print(perm)\n"
      ]
    }
  ]
}