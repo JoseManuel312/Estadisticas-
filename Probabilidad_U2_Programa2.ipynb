{
  "nbformat": 4,
  "nbformat_minor": 0,
  "metadata": {
    "colab": {
      "provenance": []
    },
    "kernelspec": {
      "name": "python3",
      "display_name": "Python 3"
    },
    "language_info": {
      "name": "python"
    }
  },
  "cells": [
    {
      "cell_type": "code",
      "execution_count": 1,
      "metadata": {
        "colab": {
          "base_uri": "https://localhost:8080/"
        },
        "id": "irgWNDthJSUx",
        "outputId": "05449602-293f-4cbf-fab9-b03d83d3f503"
      },
      "outputs": [
        {
          "output_type": "stream",
          "name": "stdout",
          "text": [
            "Permutaciones de 5 elementos tomados de 3 en 3: 60\n",
            "\n",
            "Ejemplo de permutaciones con elementos específicos:\n",
            "('A', 'B', 'C')\n",
            "('A', 'B', 'D')\n",
            "('A', 'C', 'B')\n",
            "('A', 'C', 'D')\n",
            "('A', 'D', 'B')\n",
            "('A', 'D', 'C')\n",
            "('B', 'A', 'C')\n",
            "('B', 'A', 'D')\n",
            "('B', 'C', 'A')\n",
            "('B', 'C', 'D')\n",
            "('B', 'D', 'A')\n",
            "('B', 'D', 'C')\n",
            "('C', 'A', 'B')\n",
            "('C', 'A', 'D')\n",
            "('C', 'B', 'A')\n",
            "('C', 'B', 'D')\n",
            "('C', 'D', 'A')\n",
            "('C', 'D', 'B')\n",
            "('D', 'A', 'B')\n",
            "('D', 'A', 'C')\n",
            "('D', 'B', 'A')\n",
            "('D', 'B', 'C')\n",
            "('D', 'C', 'A')\n",
            "('D', 'C', 'B')\n"
          ]
        }
      ],
      "source": [
        "from itertools import permutations\n",
        "from math import factorial\n",
        "\n",
        "def calcular_permutaciones(n, k):\n",
        "    \"\"\"Calcula el número de permutaciones de n elementos tomados de k en k.\"\"\"\n",
        "    return factorial(n) // factorial(n - k)\n",
        "\n",
        "def ejemplo_permutaciones():\n",
        "    \"\"\"Ejemplo en Python de permutaciones con elementos específicos.\"\"\"\n",
        "    elementos = ['A', 'B', 'C', 'D']\n",
        "    k = 3  # Tamaño del subconjunto ordenado\n",
        "    resultado = list(permutations(elementos, k))\n",
        "    return resultado\n",
        "\n",
        "if __name__ == \"__main__\":\n",
        "    # Cálculo de permutaciones\n",
        "    n, k = 5, 3  # Valores de ejemplo\n",
        "    print(f\"Permutaciones de {n} elementos tomados de {k} en {k}: {calcular_permutaciones(n, k)}\")\n",
        "\n",
        "    # Ejemplo de permutaciones con elementos específicos\n",
        "    print(\"\\nEjemplo de permutaciones con elementos específicos:\")\n",
        "    for p in ejemplo_permutaciones():\n",
        "        print(p)\n",
        "\n"
      ]
    }
  ]
}